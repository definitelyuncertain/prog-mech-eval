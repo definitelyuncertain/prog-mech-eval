{
 "cells": [
  {
   "cell_type": "markdown",
   "id": "e8600934-6ed3-416d-88a4-dfc2192debb5",
   "metadata": {},
   "source": [
    "# Visualizing Nash Strategy Prediction from the Code Vector\n",
    "\n",
    "This notebook visualizes the strategies for a model that has been trained to choose actions in a matrix game (for both players) based on its program embedding.\n",
    "\n",
    "Random test programs are generated for the visualization."
   ]
  },
  {
   "cell_type": "code",
   "execution_count": null,
   "id": "61e4c91b",
   "metadata": {},
   "outputs": [],
   "source": [
    "import numpy as np\n",
    "import torch\n",
    "import torchvision\n",
    "import matplotlib.pyplot as plt\n",
    "%matplotlib inline\n",
    "\n",
    "import itertools\n",
    "from contextlib import nullcontext\n",
    "import os, sys\n",
    "sys.path.append('./code2vec')\n",
    "sys.argv = ['test.py']\n",
    "sys.argc = len(sys.argv)\n",
    "\n",
    "from code2vec.config import Config\n",
    "from code2vec.code2vec import load_model_dynamically\n",
    "\n",
    "from data.dataloader import MatrixProgramEmbeddingDataset\n",
    "\n",
    "from data.gen_matrix_progs import gen_matrix_progs_col_stripe as gen_progs\n",
    "\n",
    "from trainers.nash_trainer import Code2VecNashBCTrainer\n",
    "\n",
    "from nets.nash_predictor_model import NashPredictor, NashPredictorConv"
   ]
  },
  {
   "cell_type": "code",
   "execution_count": null,
   "id": "52985453",
   "metadata": {},
   "outputs": [],
   "source": [
    "# Configs for generating the programs to be used for evaluation\n",
    "N = 16\n",
    "prog_config = \\\n",
    "dict(N=N,\n",
    "     num_programs=16,\n",
    "     num_statements=3,\n",
    "     stripe_size=6,\n",
    "     stripe_chance=0.15\n",
    "     )"
   ]
  },
  {
   "cell_type": "code",
   "execution_count": null,
   "id": "890e5587",
   "metadata": {},
   "outputs": [],
   "source": [
    "progs = list(gen_progs(**prog_config))"
   ]
  },
  {
   "cell_type": "code",
   "execution_count": null,
   "id": "5a04fd8d",
   "metadata": {},
   "outputs": [],
   "source": [
    "matrix_config = {\n",
    "    \"matrix_args\":{\"base_array\": np.zeros((N, N))},\n",
    "    \"opts\":{\"nash_solutions\": True},\n",
    "}"
   ]
  },
  {
   "cell_type": "code",
   "execution_count": null,
   "id": "b9c4df5c",
   "metadata": {},
   "outputs": [],
   "source": [
    "training_config = {\n",
    "        \"batch_size\": 1,\n",
    "        \"output_dir\": \"models/nash_prediction/\",\n",
    "        \"log_interval\": 20,\n",
    "        \"save_interval\": 20,\n",
    "        \"train_split\":[0.5, 0.5]\n",
    "    }"
   ]
  },
  {
   "cell_type": "code",
   "execution_count": null,
   "id": "bbaa2376",
   "metadata": {},
   "outputs": [],
   "source": [
    "# Create a trainer which has a dataloader.\n",
    "\n",
    "trainer = Code2VecNashBCTrainer(\n",
    "    prog_config,\n",
    "    matrix_config,\n",
    "    training_config,\n",
    "    load_path = \"/path/to/model.pt\", # Trained model for predicting the Nash strategies\n",
    "    model_class=NashPredictorConv, # Specify the model class appropriately\n",
    "    progs=progs,\n",
    ")"
   ]
  },
  {
   "cell_type": "code",
   "execution_count": null,
   "id": "15e48ecc",
   "metadata": {},
   "outputs": [],
   "source": [
    "# Collect model outputs for the above test programs\n",
    "\n",
    "nashs, pis, mats = [], [], []\n",
    "for i, data in enumerate(iter(trainer.valid_dataloader)):\n",
    "    with torch.no_grad():\n",
    "        code_vectors, matrices, nash, cost = data\n",
    "        pi1, pi2 = model_outputs[i]  # Policy log probs\n",
    "        pi1, pi2 = torch.exp(pi1), torch.exp(pi2) # Get probabilities\n",
    "        nashs.append((nash[:,0,:], nash[:,1,:]))\n",
    "        pis.append((pi1, pi2))\n",
    "        mats.append(matrices)"
   ]
  },
  {
   "cell_type": "code",
   "execution_count": null,
   "id": "528a5622",
   "metadata": {},
   "outputs": [],
   "source": [
    "# Collect game matrices, agent strategies into a plottable image\n",
    "\n",
    "pi_tensors = [[0.95, 0.95, 0.95][i]+[-1.0, -0.3, -0.3][i] * torch.cat([torch.cat([x[0]/torch.max(x[0]) for x in pis], dim=0)]*N, dim=1).view(-1, 1, N, N).transpose(2,3) for i in range(3)]\n",
    "pi1_tensors = [[0.95, 0.95, 0.95][i]+[-1.0, 0.0, -1.0][i] * torch.cat([torch.cat([x[1]/torch.max(x[1]) for x in pis], dim=0)]*N, dim=1).view(-1, 1, N, N) for i in range(3)]\n",
    "mat_tensors = [0.9*torch.cat(mats, dim=0).view(-1, 1, N, N)]*3\n",
    "pi_mat_tensors = []\n",
    "for c in range(3):\n",
    "    pi_mat_list = []\n",
    "    for i in range(mat_tensors[0].shape[0]):\n",
    "        pi_mat_list.append(mat_tensors[c][i])\n",
    "    for i in range(mat_tensors[0].shape[0]):\n",
    "        pi_mat_list.append(pi_tensors[c][i])\n",
    "    for i in range(mat_tensors[0].shape[0]):\n",
    "        pi_mat_list.append(pi1_tensors[c][i])\n",
    "    pi_mat_tensors.append(torch.stack(pi_mat_list))\n",
    "pi_mat_grid = torchvision.utils.make_grid(torch.cat(pi_mat_tensors, dim=1), pad_value=1.0, nrow=8)"
   ]
  },
  {
   "cell_type": "markdown",
   "id": "7318aa53-e302-40dc-8370-b7aa340ea7ad",
   "metadata": {},
   "source": [
    "## Plot the results:\n",
    "\n",
    "* The top row shows the matrix generated by the programs (note that these are not given as inputs to the network).\n",
    "* The middle row visualizes the policy probabilities for player 1. The intensity of the color of each horizontal line represents the  probability of player 1 choosing that row of the matrix.\n",
    "* The probabilities are normalized so that the largest value for any particular strategy is 1 (darkest).\n",
    "* Similarly, the bottom row visualizes the policy probabilities for player 1 for choosing columns of the matrix."
   ]
  },
  {
   "cell_type": "code",
   "execution_count": null,
   "id": "ce3e4c65",
   "metadata": {},
   "outputs": [],
   "source": [
    "plt.imshow(np.transpose(pi_mat_grid.numpy(), (1, 2, 0)))\n",
    "\n",
    "fig = plt.gcf()\n",
    "fig.set_size_inches(8.5, 22)\n",
    "plt.show()"
   ]
  }
 ],
 "metadata": {
  "kernelspec": {
   "display_name": "Python 3 (ipykernel)",
   "language": "python",
   "name": "python3"
  },
  "language_info": {
   "codemirror_mode": {
    "name": "ipython",
    "version": 3
   },
   "file_extension": ".py",
   "mimetype": "text/x-python",
   "name": "python",
   "nbconvert_exporter": "python",
   "pygments_lexer": "ipython3",
   "version": "3.10.6"
  }
 },
 "nbformat": 4,
 "nbformat_minor": 5
}
